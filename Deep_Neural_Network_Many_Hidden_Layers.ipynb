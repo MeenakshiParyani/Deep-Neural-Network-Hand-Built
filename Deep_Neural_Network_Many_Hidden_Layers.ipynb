{
 "cells": [
  {
   "cell_type": "code",
   "execution_count": 1,
   "metadata": {
    "collapsed": true
   },
   "outputs": [],
   "source": [
    "# Imports\n",
    "import pandas as pd\n",
    "import numpy as np\n",
    "%matplotlib inline\n",
    "from matplotlib import pyplot as plt\n",
    "from matplotlib import transforms\n",
    "import sys\n",
    "from __future__ import division"
   ]
  },
  {
   "cell_type": "markdown",
   "metadata": {},
   "source": [
    "### 1. (30pts) Define functions"
   ]
  },
  {
   "cell_type": "code",
   "execution_count": 2,
   "metadata": {
    "collapsed": true
   },
   "outputs": [],
   "source": [
    "# One hot Encoding the categorical output values to binary by adding 1's for that index and 0's otherwise\n",
    "def oneHotEncode(y):\n",
    "    enc = pd.get_dummies(y['y'])\n",
    "    return np.matrix(enc)\n",
    "\n",
    "# Applying Sigmoid Activation function to the hidden layer outputs used while forward propagation\n",
    "# works with scalar, arrays and matrix as well\n",
    "# Purpose of this method is to do squishing on the linear function\n",
    "def sigmoid(z):\n",
    "    return 1./(1+np.exp(-z))\n",
    "\n",
    "# Applying Sigmoid Activation function to the hidden layer outputs used while backward propagation to get gradients\n",
    "# works with scalar, arrays and matrix as well\n",
    "# Purpose of this method is to do undo the squishing on the linear function\n",
    "def sigmoid_prime(z):\n",
    "    inv = (np.exp(-z))/(np.power((1+np.exp(-z)),2))\n",
    "    return inv\n",
    "\n",
    "def relu(z):\n",
    "    return np.maximum(z,0)\n",
    "    \n",
    "def relu_prime(z):\n",
    "    return np.where(z < 0, 0.0, 1.0)\n",
    "\n",
    "# Get the loss of for the training example\n",
    "def get_cost(Y, Yhat, lamda, Wl):\n",
    "    m= Y.shape[1]\n",
    "    loss = np.multiply(np.log(Yhat),Y) + np.multiply((1.-Y), np.log(1. - Yhat))\n",
    "    loss = np.sum(loss)\n",
    "    cost = -1./m * np.sum(loss) + ((lamda/(2*m)) * np.sum(np.square(Wl)))\n",
    "    cost = np.squeeze(cost)\n",
    "    return cost\n",
    "\n",
    "# Forward propagation to calculate yHat by applying activation function twice\n",
    "def forward_propagate(cache, layerCount, activationFuncs):\n",
    "    for l in range(1, layerCount+1):\n",
    "        Zl =  'Z' + str(l)\n",
    "        Al =  'A' + str(l)\n",
    "        Wl =  'W' + str(l)\n",
    "        Al1 = 'A' + str(l-1)\n",
    "        bl =  'b' + str(l)\n",
    "        cache[Zl] = np.dot(cache[Wl], cache[Al1]) + cache[bl]\n",
    "        activationFunc = activationFuncs[l] + '(cache[Zl])'\n",
    "        cache[Al] = eval(activationFunc)\n",
    "    return cache\n",
    "\n",
    "# Backward Propagation function to calculate the gradients\n",
    "def back_propagate(cache, layerCount, deactivationFuncs):\n",
    "    gradients = {}\n",
    "    m = cache['A0'].shape[1]\n",
    "    for l in xrange(layerCount, 0, -1):\n",
    "        if(l==layerCount): # is last layer\n",
    "            dZl = cache['A' + str(l)] - cache['A' + str(l+1)]    \n",
    "        else:\n",
    "            Zl = 'Z'+ str(l)\n",
    "            dZl1 = 'dZ'+str(l+1)\n",
    "            deacFunc = deactivationFuncs[l] + '(cache[Zl])'\n",
    "            actv_prime = eval(deacFunc)\n",
    "            term1 = cache['W'+str(l+1)].T\n",
    "            term2 = gradients[dZl1]\n",
    "            product = np.dot( term1, term2)\n",
    "            dZl = np.multiply(product, actv_prime) \n",
    "        gradients['dZ' + str(l)] = dZl\n",
    "        Al1 = cache['A' + str(l-1)]\n",
    "#         print('--dZ'+str(l))\n",
    "#         print(dZl.shape)\n",
    "#         print('A'+str(l-1))\n",
    "#         print( Al1.shape)\n",
    "        dWl = (1./m) * np.dot(dZl, Al1.T)\n",
    "        dbl = (1./m) * np.sum(dZl, axis=1)\n",
    "#         print('dW' +str(l))\n",
    "#         print(dWl.shape)\n",
    "#         print('db' +str(l))\n",
    "#         print(dbl.shape)\n",
    "        gradients['dW' + str(l)] = dWl\n",
    "        gradients['db' + str(l)] = dbl\n",
    "    return gradients  \n",
    "\n",
    "\n",
    "def gradientDescent(X, Y, YOrg, alpha, iters, hiddenLayers, layerSizes, activationFuncs, deactivationFuncs, lamda, Xtest, Ytest):  \n",
    "    \n",
    "    cache = initialize_parameters(hiddenLayers, layerSizes,activationFuncs )\n",
    "    cache['A0'] = X\n",
    "    ykey = 'A' + str(hiddenLayers+1)\n",
    "    cache[ykey] = Y\n",
    "    old_cost = sys.maxsize\n",
    "    new_cost = sys.maxsize\n",
    "    cost_history = []\n",
    "    for i in range(iters):\n",
    "        # Call Forward propagation to calculate yHat\n",
    "        cache = forward_propagate(cache, hiddenLayers, activationFuncs)\n",
    "        old_cost = new_cost\n",
    "        Afinal = cache['A'+str(hiddenLayers)]\n",
    "        new_cost = get_cost(Y, cache['A'+str(hiddenLayers)], lamda, cache['W'+str(hiddenLayers)]) # Regularization\n",
    "        gradients = back_propagate(cache, hiddenLayers, deactivationFuncs)\n",
    "        for l in range(1,hiddenLayers+1):\n",
    "            Wl = cache['W'+str(l)]\n",
    "            gradients['dW'+str(l)] = gradients['dW'+str(l)] + (lamda/m) * Wl  # Regularization\n",
    "            Wl = Wl - alpha * gradients['dW'+str(l)]\n",
    "            cache['W'+str(l)] = Wl\n",
    "            bl = cache['b'+str(l)]\n",
    "            bl = bl - alpha * gradients['db'+str(l)]\n",
    "            cache['b'+str(l)] = bl\n",
    "        if(abs(old_cost - new_cost) < 0.00000001):\n",
    "            print(\"breaking\" + str(old_cost) + str(new_cost))\n",
    "            break;\n",
    "        if(i%100 ==0):\n",
    "            testcache = cache.copy()\n",
    "            testcache['A0'] = Xtest\n",
    "            ykey = 'A' + str(hiddenLayers+1)\n",
    "            cache2 = forward_propagate(testcache, hiddenLayers, activationFuncs)\n",
    "            ATestfinal = softmax(cache2['A'+str(hiddenLayers)])\n",
    "            acc = get_accuracy(Ytest, ATestfinal)\n",
    "            print (\"cost : \" + str(new_cost) + \" Test Accuracy : \" + str(acc) + \" Iteration: \" + str(i))\n",
    "        cost_history.append(new_cost)\n",
    "    Afinal = softmax(Afinal) # Apply softmax to get the actual labels\n",
    "    cache['A'+str(hiddenLayers)] = Afinal\n",
    "    accuracy = get_accuracy(YOrg, Afinal)\n",
    "    return cache, cost_history, new_cost, accuracy\n",
    "\n",
    "# Softmax activation function to get the probablity of the classes\n",
    "def softmax(z):\n",
    "    softMax = (np.exp(z) / np.sum(np.exp(z),axis=0))\n",
    "    softMax = np.matrix(np.argmax(softMax,axis=0)).T\n",
    "    return softMax\n",
    "\n",
    "def plotCostHistory(cost_history, alpha, i):\n",
    "     line = plt.plot(cost_history, label=alpha)\n",
    "     plt.ylabel('Cost');\n",
    "     plt.ylim( (0, 4) )\n",
    "     plt.xlabel('Iterations');\n",
    "     plt.title('Cost Progression with Iterations for different learning rates')\n",
    "     plt.legend()\n",
    "        \n",
    "def get_accuracy(Y, Ypred):\n",
    "    Y = np.matrix(Y)\n",
    "    numcorrect = 0\n",
    "    for (x,y) in zip(Ypred,Y):\n",
    "        if(x[0]==y[0]):\n",
    "            numcorrect+=1\n",
    "    accuracy=numcorrect*100.0/len(Y)\n",
    "    return accuracy"
   ]
  },
  {
   "cell_type": "markdown",
   "metadata": {},
   "source": [
    "### 2. Split data"
   ]
  },
  {
   "cell_type": "code",
   "execution_count": 3,
   "metadata": {
    "collapsed": true
   },
   "outputs": [],
   "source": [
    "# Reading the training data\n",
    "data_train = pd.read_csv('exam1_train.csv', sep=\",\", encoding='utf-8', header='infer')\n",
    "# Remove the un-necessary column\n",
    "df_train = data_train.drop('Unnamed: 0',axis=1)\n",
    "m = df_train.shape[0]\n",
    "\n",
    "y_train = pd.DataFrame(df_train['y'])\n",
    "X_train = df_train.drop(['y'], axis=1)\n",
    "\n",
    "X_train_mat = np.matrix(X_train).T\n",
    "y_train_mat = oneHotEncode(y_train).T"
   ]
  },
  {
   "cell_type": "code",
   "execution_count": 4,
   "metadata": {},
   "outputs": [
    {
     "name": "stdout",
     "output_type": "stream",
     "text": [
      "     y\n",
      "202  4\n"
     ]
    },
    {
     "data": {
      "image/png": "[encoded data removed]",
      "text/plain": [
       "<matplotlib.figure.Figure at 0x10a64b950>"
      ]
     },
     "metadata": {},
     "output_type": "display_data"
    }
   ],
   "source": [
    "# Reading the test data\n",
    "data_test = pd.read_csv('exam1_test.csv', sep=\",\", encoding='utf-8', header='infer')\n",
    "# Remove the un-necessary column\n",
    "df_test = data_test.drop('Unnamed: 0',axis=1)\n",
    "\n",
    "y_test = pd.DataFrame(df_test['y'])\n",
    "X_test = df_test.drop(['y'], axis=1)\n",
    "\n",
    "X_test_mat = np.matrix(X_test).T\n",
    "y_test_mat = oneHotEncode(y_test).T\n",
    "\n",
    "# Plot the selected pixel\n",
    "num = 202\n",
    "pixels = np.array(X_test[num:num+1], dtype='uint8')\n",
    "print(y_test[num:num+1])\n",
    "pixels = pixels.reshape((20, 20)).T\n",
    "plt.imshow(pixels)\n",
    "plt.show()"
   ]
  },
  {
   "cell_type": "markdown",
   "metadata": {},
   "source": [
    "### 3. (10pts) Initialize parameters"
   ]
  },
  {
   "cell_type": "code",
   "execution_count": 5,
   "metadata": {
    "collapsed": true
   },
   "outputs": [],
   "source": [
    "# Initialize weights // TODO - change the initialization method\n",
    "\n",
    "np.random.seed(1) # Setting random seed to 1\n",
    "def initialize_parameters(hiddenLayers, layerSizes, activationFuncs):\n",
    "    cache = {}\n",
    "    for l in range(1,hiddenLayers+1):\n",
    "        #print(l)\n",
    "        Wl = 'W' + str(l)\n",
    "        bl = 'b' + str(l)\n",
    "        #print(layerSizes[l])\n",
    "        #print(layerSizes[l-1])\n",
    "        print('activation is ' + str(activationFuncs[l]) + ' for layer ' + str(l))\n",
    "        if(activationFuncs[l]=='sigmoid'):\n",
    "            print('activation is sigmoid for layer ' + str(l))\n",
    "            cache[Wl] =  np.random.randn(layerSizes[l], layerSizes[l-1]) * np.sqrt(2./layerSizes[l-1])\n",
    "            cache[bl] =  np.zeros((layerSizes[l],1))\n",
    "        elif(activationFuncs[l]=='relu'):\n",
    "            print('activation is relu for layer ' + str(l))\n",
    "            cache[Wl] =  np.random.randn(layerSizes[l], layerSizes[l-1]) * (2./np.sqrt(layerSizes[l-1]))\n",
    "            cache[bl] =  np.zeros((layerSizes[l],1))\n",
    "        else:\n",
    "            print('activation is random for layer ' + str(l))\n",
    "            cache[Wl] =  np.random.randn(layerSizes[l], layerSizes[l-1]) * 0.01 ## Random\n",
    "            cache[bl] =  np.zeros((layerSizes[l],1))\n",
    "        l=l+1\n",
    "    #print(cache)\n",
    "    return cache"
   ]
  },
  {
   "cell_type": "markdown",
   "metadata": {},
   "source": [
    "### 4. (30pts) Deep Neural Network model with more than 2 hidden layers"
   ]
  },
  {
   "cell_type": "code",
   "execution_count": 6,
   "metadata": {},
   "outputs": [
    {
     "name": "stdout",
     "output_type": "stream",
     "text": [
      " Number of hidden layers including output layer are - 3\n"
     ]
    }
   ],
   "source": [
    "# Defining Hyperparameters\n",
    "hiddenLayers = 3\n",
    "layerSizes = [400, 100, 40, 10] # As specified in assignment requirements, can have as many hidden layers\n",
    "print(\" Number of hidden layers including output layer are - \" + str(hiddenLayers))\n",
    "activationFuncs = ['', 'relu', 'relu', 'sigmoid']\n",
    "deactivationFuncs = ['', 'relu_prime', 'relu_prime', 'sigmoid_prime']"
   ]
  },
  {
   "cell_type": "code",
   "execution_count": 7,
   "metadata": {
    "collapsed": true,
    "scrolled": true
   },
   "outputs": [],
   "source": [
    "# cache = initialize_parameters(hiddenLayers, layerSizes, activationFuncs)\n",
    "# print(cache['W1'].shape)\n",
    "# # print(cache['W2'].shape)\n",
    "# # print(cache['W3'].shape)\n",
    "# # print(cache['b1'].shape)\n",
    "# # print(cache['b2'].shape)\n",
    "# # print(cache['b3'].shape)\n",
    "# cache['A0'] = X_train_mat\n",
    "# ykey = 'A' + str(len(layerSizes))\n",
    "# cache[ykey] = y_train_mat\n",
    "# cache = forward_propagate(cache, hiddenLayers, ['', 'apply_sigmoid', 'apply_sigmoid','apply_sigmoid'])\n",
    "# # print(cache['A1'])\n",
    "# # print(cache['A2'])\n",
    "# # print(cache['A3'])\n",
    "# # print(cache['Z2'])"
   ]
  },
  {
   "cell_type": "code",
   "execution_count": 8,
   "metadata": {
    "collapsed": true,
    "scrolled": false
   },
   "outputs": [],
   "source": [
    "# gradients = back_propagate(cache, hiddenLayers, deactivationFuncs)"
   ]
  },
  {
   "cell_type": "markdown",
   "metadata": {},
   "source": [
    "### 5. (10pts) Predictions\n",
    "\n",
    "### 6. (20pts) Optimization"
   ]
  },
  {
   "cell_type": "code",
   "execution_count": 9,
   "metadata": {
    "collapsed": true
   },
   "outputs": [],
   "source": [
    "# Optimization function to check cost propagartion for different learning rates\n",
    "def optimize():\n",
    "    lamdas = [10.0]\n",
    "    alpha = [0.2]\n",
    "    i=0\n",
    "    scores = pd.DataFrame(columns=['alpha','cache','accuracy', 'lamda'])\n",
    "    print('*****************Training Data*********************')\n",
    "    for l in lamdas:\n",
    "        for a in alpha:\n",
    "            cache, cost_history, new_cost, acc = gradientDescent(X_train_mat, y_train_mat, y_train, a, 8000, \n",
    "                                                hiddenLayers, layerSizes, activationFuncs, deactivationFuncs, l, X_test_mat, y_test)\n",
    "            scores.loc[i] = pd.Series({'alpha':a, 'cache': cache, 'accuracy':acc, 'lamda':l})\n",
    "            print(\"Cost with \" + \"Alpha \" + str(a) + \" and lambda \" + str(l) + \" is \" + str(new_cost) + \" & \" + \"Accuracy is \" + str(acc) + \" %\")\n",
    "            plotCostHistory(cost_history, a, i)\n",
    "            i+=1\n",
    "        least_cost_comb = scores['accuracy'].idxmax()\n",
    "        alph = scores.iloc[[least_cost_comb]]['alpha'][least_cost_comb]\n",
    "        cache = scores.iloc[[least_cost_comb]]['cache'][least_cost_comb]\n",
    "        plt.show()\n",
    "        print('Best alpha is ' + str(alph))\n",
    "    return cache, alph,scores"
   ]
  },
  {
   "cell_type": "code",
   "execution_count": 10,
   "metadata": {
    "scrolled": false
   },
   "outputs": [
    {
     "name": "stdout",
     "output_type": "stream",
     "text": [
      "*****************Training Data*********************\n",
      "activation is relu for layer 1\n",
      "activation is relu for layer 1\n",
      "activation is relu for layer 2\n",
      "activation is relu for layer 2\n",
      "activation is sigmoid for layer 3\n",
      "activation is sigmoid for layer 3\n",
      "cost : 8.31698315296 Test Accuracy : 11.0666666667 Iteration: 0\n",
      "cost : 0.674380883014 Test Accuracy : 87.3333333333 Iteration: 100\n",
      "cost : 0.479245154929 Test Accuracy : 90.4 Iteration: 200\n",
      "cost : 0.394215509003 Test Accuracy : 90.7333333333 Iteration: 300\n",
      "cost : 0.341360980847 Test Accuracy : 91.3333333333 Iteration: 400\n",
      "cost : 0.304157755019 Test Accuracy : 91.8 Iteration: 500\n",
      "cost : 0.277102404667 Test Accuracy : 91.9333333333 Iteration: 600\n",
      "cost : 0.256840370819 Test Accuracy : 92.4 Iteration: 700\n",
      "cost : 0.241965261011 Test Accuracy : 92.5333333333 Iteration: 800\n",
      "cost : 0.230382022404 Test Accuracy : 92.7333333333 Iteration: 900\n",
      "cost : 0.221024449305 Test Accuracy : 93.0 Iteration: 1000\n",
      "cost : 0.213893074444 Test Accuracy : 93.0 Iteration: 1100\n",
      "cost : 0.20841477015 Test Accuracy : 93.1333333333 Iteration: 1200\n",
      "cost : 0.203603890638 Test Accuracy : 93.2 Iteration: 1300\n",
      "cost : 0.199949141125 Test Accuracy : 93.1333333333 Iteration: 1400\n",
      "cost : 0.196773084385 Test Accuracy : 93.2666666667 Iteration: 1500\n",
      "cost : 0.194255862233 Test Accuracy : 93.3333333333 Iteration: 1600\n",
      "cost : 0.192026970336 Test Accuracy : 93.4666666667 Iteration: 1700\n",
      "cost : 0.190184297439 Test Accuracy : 93.4 Iteration: 1800\n",
      "cost : 0.188642937163 Test Accuracy : 93.4666666667 Iteration: 1900\n",
      "cost : 0.187140609089 Test Accuracy : 93.6 Iteration: 2000\n",
      "cost : 0.185998401952 Test Accuracy : 93.6 Iteration: 2100\n",
      "cost : 0.184871365175 Test Accuracy : 93.5333333333 Iteration: 2200\n",
      "cost : 0.183845478843 Test Accuracy : 93.6 Iteration: 2300\n",
      "cost : 0.182879892747 Test Accuracy : 93.6666666667 Iteration: 2400\n",
      "cost : 0.182014927159 Test Accuracy : 93.6666666667 Iteration: 2500\n",
      "cost : 0.181402968905 Test Accuracy : 93.6 Iteration: 2600\n",
      "cost : 0.18062620899 Test Accuracy : 93.6 Iteration: 2700\n",
      "cost : 0.179923888095 Test Accuracy : 93.6 Iteration: 2800\n",
      "cost : 0.179206283961 Test Accuracy : 93.6666666667 Iteration: 2900\n",
      "cost : 0.178600068147 Test Accuracy : 93.6666666667 Iteration: 3000\n",
      "cost : 0.177960361819 Test Accuracy : 93.6666666667 Iteration: 3100\n",
      "cost : 0.177387873132 Test Accuracy : 93.6666666667 Iteration: 3200\n",
      "cost : 0.176813328042 Test Accuracy : 93.6666666667 Iteration: 3300\n",
      "cost : 0.176363506221 Test Accuracy : 93.6666666667 Iteration: 3400\n",
      "cost : 0.175916947665 Test Accuracy : 93.8666666667 Iteration: 3500\n",
      "cost : 0.175415621418 Test Accuracy : 93.9333333333 Iteration: 3600\n",
      "cost : 0.174940084694 Test Accuracy : 93.9333333333 Iteration: 3700\n",
      "cost : 0.174497394011 Test Accuracy : 93.9333333333 Iteration: 3800\n",
      "cost : 0.174127146355 Test Accuracy : 93.9333333333 Iteration: 3900\n",
      "cost : 0.173769703217 Test Accuracy : 93.9333333333 Iteration: 4000\n",
      "cost : 0.173408269566 Test Accuracy : 93.9333333333 Iteration: 4100\n",
      "cost : 0.172981128575 Test Accuracy : 93.9333333333 Iteration: 4200\n",
      "cost : 0.172536416147 Test Accuracy : 94.0 Iteration: 4300\n",
      "cost : 0.172165685974 Test Accuracy : 94.1333333333 Iteration: 4400\n",
      "cost : 0.171894098321 Test Accuracy : 94.0 Iteration: 4500\n",
      "cost : 0.171667377429 Test Accuracy : 94.0 Iteration: 4600\n",
      "cost : 0.171358264966 Test Accuracy : 94.0 Iteration: 4700\n",
      "cost : 0.170978347699 Test Accuracy : 94.0666666667 Iteration: 4800\n",
      "cost : 0.170598104439 Test Accuracy : 94.0666666667 Iteration: 4900\n",
      "cost : 0.170289972625 Test Accuracy : 94.0666666667 Iteration: 5000\n",
      "cost : 0.170046916807 Test Accuracy : 94.1333333333 Iteration: 5100\n",
      "cost : 0.169786603712 Test Accuracy : 94.2 Iteration: 5200\n",
      "cost : 0.169545130198 Test Accuracy : 94.2 Iteration: 5300\n",
      "cost : 0.169294080517 Test Accuracy : 94.2 Iteration: 5400\n",
      "cost : 0.16909059468 Test Accuracy : 94.2 Iteration: 5500\n",
      "cost : 0.169008068386 Test Accuracy : 94.2 Iteration: 5600\n",
      "cost : 0.168861727851 Test Accuracy : 94.2 Iteration: 5700\n",
      "cost : 0.168665363452 Test Accuracy : 94.2666666667 Iteration: 5800\n",
      "cost : 0.168443127233 Test Accuracy : 94.2 Iteration: 5900\n",
      "cost : 0.168225423589 Test Accuracy : 94.2 Iteration: 6000\n",
      "cost : 0.168054320235 Test Accuracy : 94.2666666667 Iteration: 6100\n",
      "cost : 0.167810838911 Test Accuracy : 94.2666666667 Iteration: 6200\n",
      "cost : 0.167658241611 Test Accuracy : 94.2666666667 Iteration: 6300\n",
      "cost : 0.167452449812 Test Accuracy : 94.2666666667 Iteration: 6400\n",
      "cost : 0.16722439407 Test Accuracy : 94.3333333333 Iteration: 6500\n",
      "cost : 0.167051208254 Test Accuracy : 94.3333333333 Iteration: 6600\n",
      "cost : 0.166923606277 Test Accuracy : 94.2666666667 Iteration: 6700\n",
      "cost : 0.166863656745 Test Accuracy : 94.2666666667 Iteration: 6800\n",
      "cost : 0.166839144041 Test Accuracy : 94.1333333333 Iteration: 6900\n",
      "cost : 0.166578009278 Test Accuracy : 94.2666666667 Iteration: 7000\n",
      "cost : 0.166300438488 Test Accuracy : 94.3333333333 Iteration: 7100\n",
      "cost : 0.166166421622 Test Accuracy : 94.3333333333 Iteration: 7200\n",
      "cost : 0.166036097554 Test Accuracy : 94.2666666667 Iteration: 7300\n",
      "cost : 0.165956540626 Test Accuracy : 94.2666666667 Iteration: 7400\n",
      "cost : 0.165952682791 Test Accuracy : 94.2 Iteration: 7500\n",
      "cost : 0.165851257746 Test Accuracy : 94.2666666667 Iteration: 7600\n",
      "cost : 0.165708293603 Test Accuracy : 94.2666666667 Iteration: 7700\n",
      "cost : 0.165542030013 Test Accuracy : 94.2666666667 Iteration: 7800\n",
      "cost : 0.165316268095 Test Accuracy : 94.2666666667 Iteration: 7900\n",
      "Cost with Alpha 0.2 and lambda 10.0 is 0.16509995886 & Accuracy is 99.9428571429 %\n"
     ]
    },
    {
     "data": {
      "image/png": "[encoded data removed]",
      "text/plain": [
       "<matplotlib.figure.Figure at 0x10a64b990>"
      ]
     },
     "metadata": {},
     "output_type": "display_data"
    },
    {
     "name": "stdout",
     "output_type": "stream",
     "text": [
      "Best alpha is 0.2\n"
     ]
    }
   ],
   "source": [
    "# Get the best combination of weights and alpha\n",
    "cache, alph,scores = optimize()"
   ]
  },
  {
   "cell_type": "code",
   "execution_count": 11,
   "metadata": {
    "scrolled": false
   },
   "outputs": [
    {
     "name": "stdout",
     "output_type": "stream",
     "text": [
      "*****************Test Data************************\n",
      "Test Data Optimized accuracy is 94.2 for alpha 0.2 and lambda 10.0\n",
      "*********************************************\n",
      "Maximum accuracy so far is 94.2\n",
      "Max alpha is 0.2\n",
      "Max lambda is 10.0\n"
     ]
    }
   ],
   "source": [
    "maxAcc = -sys.maxsize -1\n",
    "maxAlpha = None\n",
    "maxLambda = None\n",
    "for index, row in scores.iterrows():\n",
    "    a = row['alpha']\n",
    "    cache = row['cache']\n",
    "    lam = row['lamda']\n",
    "    cache['A0'] = X_test_mat\n",
    "    ykey = 'A' + str(hiddenLayers+1)\n",
    "    cache2 = forward_propagate(cache, hiddenLayers, activationFuncs)\n",
    "    Afinal = softmax(cache2['A'+str(hiddenLayers)])\n",
    "    acc = get_accuracy(y_test, Afinal)\n",
    "    if(acc > maxAcc):\n",
    "        maxAcc = acc\n",
    "        maxAlpha = a\n",
    "        maxLambda = lam\n",
    "    print('*****************Test Data************************')\n",
    "    print('Test Data Optimized accuracy is ' + str(acc) + ' for alpha ' + str(a) + ' and lambda ' + str(lam))\n",
    "print(\"*********************************************\")\n",
    "print(\"Maximum accuracy so far is \" + str(maxAcc))\n",
    "print(\"Max alpha is \" + str(maxAlpha))\n",
    "print(\"Max lambda is \" + str(maxLambda))"
   ]
  },
  {
   "cell_type": "code",
   "execution_count": null,
   "metadata": {
    "collapsed": true
   },
   "outputs": [],
   "source": []
  }
 ],
 "metadata": {
  "kernelspec": {
   "display_name": "Python 2",
   "language": "python",
   "name": "python2"
  },
  "language_info": {
   "codemirror_mode": {
    "name": "ipython",
    "version": 2
   },
   "file_extension": ".py",
   "mimetype": "text/x-python",
   "name": "python",
   "nbconvert_exporter": "python",
   "pygments_lexer": "ipython2",
   "version": "2.7.14"
  }
 },
 "nbformat": 4,
 "nbformat_minor": 2
}
